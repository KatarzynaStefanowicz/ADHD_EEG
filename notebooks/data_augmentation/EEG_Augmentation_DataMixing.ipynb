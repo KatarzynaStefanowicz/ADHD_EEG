{
 "cells": [
  {
   "cell_type": "code",
   "execution_count": 3,
   "id": "927a280e",
   "metadata": {},
   "outputs": [
    {
     "name": "stdout",
     "output_type": "stream",
     "text": [
      "✅ Mix-augmented data saved to ../../data/augmented\n",
      "🧠 ADHD: 98144 | Control: 84758\n"
     ]
    }
   ],
   "source": [
    "import pandas as pd\n",
    "import numpy as np\n",
    "import os\n",
    "\n",
    "# CONFIGURATION\n",
    "INPUT_CSV_PATH = '../../data/adhdata.csv'\n",
    "OUTPUT_FOLDER = '../../data/augmented'\n",
    "AUGMENTATION_RATIO = 0.1  # 10% per class\n",
    "\n",
    "# Create output folder if needed\n",
    "os.makedirs(OUTPUT_FOLDER, exist_ok=True)\n",
    "\n",
    "# Load data\n",
    "df = pd.read_csv(INPUT_CSV_PATH)\n",
    "eeg_cols = df.select_dtypes(include=np.number).columns.tolist()\n",
    "patient_col = 'ID'\n",
    "label_col = 'Class'\n",
    "\n",
    "augmented_rows = []\n",
    "\n",
    "# Augment each class separately\n",
    "for label in df[label_col].unique():\n",
    "    label_data = df[df[label_col] == label]\n",
    "    patient_ids = label_data[patient_col].unique()\n",
    "    n_new_patients = int(len(patient_ids) * AUGMENTATION_RATIO)\n",
    "\n",
    "    if len(patient_ids) < 2 or n_new_patients == 0:\n",
    "        continue\n",
    "\n",
    "    used_pairs = set()\n",
    "    mix_count = 0\n",
    "\n",
    "    while mix_count < n_new_patients:\n",
    "        p1, p2 = np.random.choice(patient_ids, 2, replace=False)\n",
    "        pair_key = tuple(sorted((p1, p2)))\n",
    "        if pair_key in used_pairs:\n",
    "            continue  # skip duplicates\n",
    "        used_pairs.add(pair_key)\n",
    "\n",
    "        data1 = label_data[label_data[patient_col] == p1].reset_index(drop=True)\n",
    "        data2 = label_data[label_data[patient_col] == p2].reset_index(drop=True)\n",
    "\n",
    "        min_len = min(len(data1), len(data2))\n",
    "        if min_len == 0:\n",
    "            continue\n",
    "\n",
    "        mixed_eeg = (data1[eeg_cols].iloc[:min_len].values + data2[eeg_cols].iloc[:min_len].values) / 2.0\n",
    "        mixed_df = data1.iloc[:min_len].copy()\n",
    "        mixed_df[eeg_cols] = mixed_eeg\n",
    "        mixed_df[patient_col] = f\"{p1}_{p2}_mix\"\n",
    "        mixed_df[label_col] = label  # preserve class\n",
    "        augmented_rows.append(mixed_df)\n",
    "        mix_count += 1  # count only valid mix per class\n",
    "\n",
    "# Combine and save\n",
    "aug_df = pd.concat(augmented_rows, ignore_index=True)\n",
    "aug_df.to_csv(os.path.join(OUTPUT_FOLDER, \"augmented_mixed_data.csv\"), index=False)\n",
    "\n",
    "print(f\"✅ Mix-augmented data saved to {OUTPUT_FOLDER}\")\n",
    "print(f\"🧠 ADHD: {sum(aug_df[label_col] == 'ADHD')} | Control: {sum(aug_df[label_col] != 'ADHD')}\")\n"
   ]
  }
 ],
 "metadata": {
  "kernelspec": {
   "display_name": "adha_eeg_env_2",
   "language": "python",
   "name": "python3"
  },
  "language_info": {
   "codemirror_mode": {
    "name": "ipython",
    "version": 3
   },
   "file_extension": ".py",
   "mimetype": "text/x-python",
   "name": "python",
   "nbconvert_exporter": "python",
   "pygments_lexer": "ipython3",
   "version": "3.10.18"
  }
 },
 "nbformat": 4,
 "nbformat_minor": 5
}
