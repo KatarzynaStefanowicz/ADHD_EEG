{
 "cells": [
  {
   "cell_type": "code",
   "execution_count": 2,
   "id": "4cde9213",
   "metadata": {},
   "outputs": [
    {
     "name": "stdout",
     "output_type": "stream",
     "text": [
      "✅ Noise-augmented data saved to ../../data/augmented\n",
      "🧠 ADHD: 212973 | Control: 192448\n"
     ]
    }
   ],
   "source": [
    "import pandas as pd\n",
    "import numpy as np\n",
    "import os\n",
    "\n",
    "# CONFIGURATION\n",
    "INPUT_CSV_PATH = '../../data/adhdata.csv'\n",
    "OUTPUT_FOLDER = '../../data/augmented'\n",
    "AUGMENTATION_RATIO = 0.2  # 20% of each class\n",
    "\n",
    "# Create output folder if it doesn't exist\n",
    "os.makedirs(OUTPUT_FOLDER, exist_ok=True)\n",
    "\n",
    "# Load the dataset\n",
    "df = pd.read_csv(INPUT_CSV_PATH)\n",
    "\n",
    "# EEG and meta columns\n",
    "eeg_cols = df.select_dtypes(include=np.number).columns.tolist()\n",
    "patient_col = 'ID'\n",
    "label_col = 'Class'\n",
    "\n",
    "augmented_data = []\n",
    "\n",
    "# Process each class independently\n",
    "for label in df[label_col].unique():\n",
    "    class_df = df[df[label_col] == label]\n",
    "    patient_ids = class_df[patient_col].unique()\n",
    "    n_to_augment = int(len(patient_ids) * AUGMENTATION_RATIO)\n",
    "\n",
    "    selected_ids = np.random.choice(patient_ids, size=n_to_augment, replace=False)\n",
    "\n",
    "    for patient_id in selected_ids:\n",
    "        group = class_df[class_df[patient_col] == patient_id].copy()\n",
    "        noise = np.random.normal(loc=0, scale=0.01, size=(len(group), len(eeg_cols)))  # gentle noise\n",
    "        augmented = group.copy()\n",
    "        augmented[eeg_cols] = group[eeg_cols].values + noise\n",
    "        augmented[patient_col] = patient_id + 'a'\n",
    "        augmented_data.append(augmented)\n",
    "\n",
    "# Save result\n",
    "aug_df = pd.concat(augmented_data, ignore_index=True)\n",
    "aug_df.to_csv(os.path.join(OUTPUT_FOLDER, \"augmented_noise_data.csv\"), index=False)\n",
    "\n",
    "print(f\"✅ Noise-augmented data saved to {OUTPUT_FOLDER}\")\n",
    "print(f\"🧠 ADHD: {sum(aug_df[label_col] == 'ADHD')} | Control: {sum(aug_df[label_col] != 'ADHD')}\")\n"
   ]
  }
 ],
 "metadata": {
  "kernelspec": {
   "display_name": "adha_eeg_env_2",
   "language": "python",
   "name": "python3"
  },
  "language_info": {
   "codemirror_mode": {
    "name": "ipython",
    "version": 3
   },
   "file_extension": ".py",
   "mimetype": "text/x-python",
   "name": "python",
   "nbconvert_exporter": "python",
   "pygments_lexer": "ipython3",
   "version": "3.10.18"
  }
 },
 "nbformat": 4,
 "nbformat_minor": 5
}
