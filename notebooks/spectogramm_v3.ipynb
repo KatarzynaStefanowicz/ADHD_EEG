{
 "cells": [
  {
   "cell_type": "code",
   "execution_count": 19,
   "id": "345ae36d",
   "metadata": {},
   "outputs": [],
   "source": [
    "import pandas as pd\n",
    "import numpy as np\n",
    "\n",
    "data = pd.read_csv(\"../data/adhdata.csv\")\n",
    "\n",
    "# EEG columns\n",
    "eeg_columns = ['Fp1', 'Fp2', 'F3', 'F4', 'C3', 'C4', 'P3', 'P4', 'O1', 'O2', 'F7', 'F8', 'T7', 'T8', 'P7', 'P8', 'Fz', 'Cz', 'Pz']\n",
    "raw_eeg = data[eeg_columns].values.T  # shape: (channels, samples)\n",
    "raw_labels = data['Class'].tolist()"
   ]
  },
  {
   "cell_type": "code",
   "execution_count": 20,
   "id": "cb1e79c9",
   "metadata": {},
   "outputs": [],
   "source": [
    "#filter and segment\n",
    "from scipy.signal import butter, filtfilt\n",
    "\n",
    "def bandpass_filter(signal, low=1, high=30, fs=128):\n",
    "    nyq = 0.5 * fs\n",
    "    b, a = butter(5, [low/nyq, high/nyq], btype='band')\n",
    "    return filtfilt(b, a, signal)\n",
    "\n",
    "def segment_eeg(eeg, segment_len=384, step=128):\n",
    "    segments = []\n",
    "    for start in range(0, eeg.shape[1] - segment_len + 1, step):\n",
    "        segments.append(eeg[:, start:start+segment_len])\n",
    "    return segments"
   ]
  },
  {
   "cell_type": "code",
   "execution_count": 21,
   "id": "f08e880d",
   "metadata": {},
   "outputs": [],
   "source": [
    "#split in segments\n",
    "\n",
    "from scipy.signal import butter, filtfilt\n",
    "\n",
    "def bandpass_filter(signal, low=1, high=30, fs=128):\n",
    "    nyq = 0.5 * fs\n",
    "    b, a = butter(5, [low/nyq, high/nyq], btype='band')\n",
    "    return filtfilt(b, a, signal)\n",
    "\n",
    "def segment_eeg(eeg, segment_len=384, step=128):\n",
    "    segments = []\n",
    "    for start in range(0, eeg.shape[1] - segment_len + 1, step):\n",
    "        segments.append(eeg[:, start:start+segment_len])\n",
    "    return segments\n"
   ]
  },
  {
   "cell_type": "code",
   "execution_count": 22,
   "id": "8782863d",
   "metadata": {},
   "outputs": [],
   "source": [
    "#make cwt spectrograms\n",
    "\n",
    "import pywt\n",
    "import numpy as np\n",
    "import cv2\n",
    "\n",
    "def compute_cwt_spectrogram(segment, wavelet='morl'):\n",
    "    spec = []\n",
    "    for ch in segment:\n",
    "        coef, _ = pywt.cwt(ch, scales=np.arange(1, 64), wavelet=wavelet)\n",
    "        spec.append(np.abs(coef))\n",
    "    spec = np.stack(spec, axis=-1)  # shape: (scales, time, channels)\n",
    "    return cv2.resize(spec, (224, 224))  # ResNet input size"
   ]
  },
  {
   "cell_type": "code",
   "execution_count": 23,
   "id": "7a73f5ee",
   "metadata": {},
   "outputs": [
    {
     "name": "stderr",
     "output_type": "stream",
     "text": [
      "Creating dataset:  27%|██▋       | 4499/16922 [05:36<15:28, 13.38it/s]  \n"
     ]
    },
    {
     "ename": "SystemError",
     "evalue": "<built-in function resize> returned a result with an exception set",
     "output_type": "error",
     "traceback": [
      "\u001b[31m---------------------------------------------------------------------------\u001b[39m",
      "\u001b[31mMemoryError\u001b[39m                               Traceback (most recent call last)",
      "\u001b[31mMemoryError\u001b[39m: Unable to allocate 7.27 MiB for an array with shape (224, 224, 19) and data type float64",
      "\nThe above exception was the direct cause of the following exception:\n",
      "\u001b[31mSystemError\u001b[39m                               Traceback (most recent call last)",
      "\u001b[36mCell\u001b[39m\u001b[36m \u001b[39m\u001b[32mIn[23]\u001b[39m\u001b[32m, line 21\u001b[39m\n\u001b[32m     18\u001b[39m             y.append(label)\n\u001b[32m     19\u001b[39m     \u001b[38;5;28;01mreturn\u001b[39;00m np.array(X), np.array(y)\n\u001b[32m---> \u001b[39m\u001b[32m21\u001b[39m X, y = \u001b[43mcreate_dataset\u001b[49m\u001b[43m(\u001b[49m\u001b[43mraw_eeg\u001b[49m\u001b[43m,\u001b[49m\u001b[43m \u001b[49m\u001b[43mraw_labels\u001b[49m\u001b[43m)\u001b[49m\n\u001b[32m     22\u001b[39m X = X / X.max()  \u001b[38;5;66;03m# normalize\u001b[39;00m\n",
      "\u001b[36mCell\u001b[39m\u001b[36m \u001b[39m\u001b[32mIn[23]\u001b[39m\u001b[32m, line 10\u001b[39m, in \u001b[36mcreate_dataset\u001b[39m\u001b[34m(eeg, labels)\u001b[39m\n\u001b[32m      8\u001b[39m step = \u001b[32m128\u001b[39m\n\u001b[32m      9\u001b[39m \u001b[38;5;28;01mfor\u001b[39;00m i, seg \u001b[38;5;129;01min\u001b[39;00m \u001b[38;5;28menumerate\u001b[39m(tqdm(segments, desc=\u001b[33m\"\u001b[39m\u001b[33mCreating dataset\u001b[39m\u001b[33m\"\u001b[39m)):\n\u001b[32m---> \u001b[39m\u001b[32m10\u001b[39m     spec = \u001b[43mcompute_cwt_spectrogram\u001b[49m\u001b[43m(\u001b[49m\u001b[43mseg\u001b[49m\u001b[43m)\u001b[49m\n\u001b[32m     11\u001b[39m     start = i * step\n\u001b[32m     12\u001b[39m     end = start + segment_len\n",
      "\u001b[36mCell\u001b[39m\u001b[36m \u001b[39m\u001b[32mIn[22]\u001b[39m\u001b[32m, line 13\u001b[39m, in \u001b[36mcompute_cwt_spectrogram\u001b[39m\u001b[34m(segment, wavelet)\u001b[39m\n\u001b[32m     11\u001b[39m     spec.append(np.abs(coef))\n\u001b[32m     12\u001b[39m spec = np.stack(spec, axis=-\u001b[32m1\u001b[39m)  \u001b[38;5;66;03m# shape: (scales, time, channels)\u001b[39;00m\n\u001b[32m---> \u001b[39m\u001b[32m13\u001b[39m \u001b[38;5;28;01mreturn\u001b[39;00m \u001b[43mcv2\u001b[49m\u001b[43m.\u001b[49m\u001b[43mresize\u001b[49m\u001b[43m(\u001b[49m\u001b[43mspec\u001b[49m\u001b[43m,\u001b[49m\u001b[43m \u001b[49m\u001b[43m(\u001b[49m\u001b[32;43m224\u001b[39;49m\u001b[43m,\u001b[49m\u001b[43m \u001b[49m\u001b[32;43m224\u001b[39;49m\u001b[43m)\u001b[49m\u001b[43m)\u001b[49m\n",
      "\u001b[31mSystemError\u001b[39m: <built-in function resize> returned a result with an exception set"
     ]
    }
   ],
   "source": [
    "from tqdm import tqdm\n",
    "\n",
    "def create_dataset(eeg, labels):\n",
    "    X, y = [], []\n",
    "    eeg_filtered = np.array([bandpass_filter(ch) for ch in eeg])\n",
    "    segments = segment_eeg(eeg_filtered)\n",
    "    segment_len = 384\n",
    "    step = 128\n",
    "    for i, seg in enumerate(tqdm(segments, desc=\"Creating dataset\")):\n",
    "        spec = compute_cwt_spectrogram(seg)\n",
    "        start = i * step\n",
    "        end = start + segment_len\n",
    "        segment_labels = labels[start:end]\n",
    "        if segment_labels:\n",
    "            from collections import Counter\n",
    "            label = Counter(segment_labels).most_common(1)[0][0]\n",
    "            X.append(spec)\n",
    "            y.append(label)\n",
    "    return np.array(X), np.array(y)\n",
    "\n",
    "X, y = create_dataset(raw_eeg, raw_labels)\n",
    "X = X / X.max()  # normalize\n"
   ]
  },
  {
   "cell_type": "code",
   "execution_count": null,
   "id": "f2a47638",
   "metadata": {},
   "outputs": [],
   "source": [
    "# Train ResNet model\n",
    "\n",
    "from sklearn.model_selection import train_test_split\n",
    "from tensorflow.keras.applications import ResNet50\n",
    "from tensorflow.keras.models import Model\n",
    "from tensorflow.keras.layers import Dense, GlobalAveragePooling2D, Input\n",
    "from tensorflow.keras.optimizers import Adam\n",
    "\n",
    "X_train, X_test, y_train, y_test = train_test_split(X, y, test_size=0.2, stratify=y)\n",
    "\n",
    "def build_resnet(input_shape):\n",
    "    base_model = ResNet50(include_top=False, weights=None, input_shape=input_shape)\n",
    "    x = GlobalAveragePooling2D()(base_model.output)\n",
    "    x = Dense(64, activation='relu')(x)\n",
    "    out = Dense(2, activation='softmax')(x)\n",
    "    return Model(inputs=base_model.input, outputs=out)\n",
    "\n",
    "model = build_resnet((224, 224, X.shape[3]))\n",
    "model.compile(optimizer=Adam(1e-4), loss='sparse_categorical_crossentropy', metrics=['accuracy'])\n",
    "model.fit(X_train, y_train, epochs=10, batch_size=32, validation_split=0.2)\n"
   ]
  },
  {
   "cell_type": "code",
   "execution_count": null,
   "id": "bdfc63ef",
   "metadata": {},
   "outputs": [],
   "source": [
    "# Evaluate the model\n",
    "\n",
    "from sklearn.metrics import classification_report, confusion_matrix\n",
    "import seaborn as sns\n",
    "import matplotlib.pyplot as plt\n",
    "\n",
    "y_pred = model.predict(X_test)\n",
    "y_pred_cls = np.argmax(y_pred, axis=1)\n",
    "\n",
    "print(classification_report(y_test, y_pred_cls))\n",
    "sns.heatmap(confusion_matrix(y_test, y_pred_cls), annot=True, fmt=\"d\", cmap=\"Blues\")\n",
    "plt.xlabel(\"Predicted\")\n",
    "plt.ylabel(\"True\")\n",
    "plt.title(\"Confusion Matrix\")\n",
    "plt.show()\n"
   ]
  }
 ],
 "metadata": {
  "kernelspec": {
   "display_name": "my_venv",
   "language": "python",
   "name": "python3"
  },
  "language_info": {
   "codemirror_mode": {
    "name": "ipython",
    "version": 3
   },
   "file_extension": ".py",
   "mimetype": "text/x-python",
   "name": "python",
   "nbconvert_exporter": "python",
   "pygments_lexer": "ipython3",
   "version": "3.11.9"
  }
 },
 "nbformat": 4,
 "nbformat_minor": 5
}
