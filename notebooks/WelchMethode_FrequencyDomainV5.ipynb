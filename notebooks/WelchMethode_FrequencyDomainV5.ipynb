{
 "cells": [
  {
   "cell_type": "code",
   "execution_count": 11,
   "id": "160e6eba",
   "metadata": {},
   "outputs": [
    {
     "name": "stdout",
     "output_type": "stream",
     "text": [
      "(2166383, 21)\n",
      "Index(['Fp1', 'Fp2', 'F3', 'F4', 'C3', 'C4', 'P3', 'P4', 'O1', 'O2', 'F7',\n",
      "       'F8', 'T7', 'T8', 'P7', 'P8', 'Fz', 'Cz', 'Pz', 'Class', 'ID'],\n",
      "      dtype='object')\n"
     ]
    }
   ],
   "source": [
    "\n",
    "import numpy as np\n",
    "import pandas as pd\n",
    "from scipy.signal import welch\n",
    "import ace_tools_open as tools; \n",
    "from scipy.signal import butter, filtfilt\n",
    "import matplotlib.pyplot as plt\n",
    "import seaborn as sns\n",
    "\n",
    "from sklearn.model_selection import train_test_split\n",
    "from sklearn.linear_model import LogisticRegression\n",
    "from sklearn.ensemble import RandomForestClassifier\n",
    "from sklearn.svm import SVC\n",
    "from sklearn.neighbors import KNeighborsClassifier\n",
    "from sklearn.metrics import classification_report\n",
    "import os\n",
    "\n",
    "def bandpass_filter(data, fs, low=1, high=30, order=5):\n",
    "    nyq = fs / 2\n",
    "    b, a = butter(order, [low / nyq, high / nyq], btype='band')\n",
    "    return filtfilt(b, a, data, axis=0)\n",
    "\n",
    "channel_names = ['Fp1', 'Fp2', 'F3', 'F4', 'C3', 'C4', 'P3', 'P4', 'O1', 'O2',\n",
    "                 'F7', 'F8', 'T7', 'T8', 'P7', 'P8', 'Fz', 'Cz', 'Pz']\n",
    "\n",
    "\n",
    "\n",
    "\n",
    "\n",
    "df = pd.read_csv(\"data/adhdata.csv\")\n",
    "df.head()\n",
    "print(df.shape)\n",
    "print(df.columns)\n",
    "\n",
    "\n"
   ]
  },
  {
   "cell_type": "code",
   "execution_count": 12,
   "id": "4a012014",
   "metadata": {},
   "outputs": [],
   "source": [
    "\n",
    "AUGMENTATION_RATIO = 0.2  # 20% of each class\n",
    "# EEG and meta columns\n",
    "eeg_cols = df.select_dtypes(include=np.number).columns.tolist()\n",
    "patient_col = 'ID'\n",
    "label_col = 'Class'\n",
    "\n",
    "augmented_data = []\n",
    "\n",
    "# Process each class independently\n",
    "for label in df[label_col].unique():\n",
    "    class_df = df[df[label_col] == label]\n",
    "    patient_ids = class_df[patient_col].unique()\n",
    "    n_to_augment = int(len(patient_ids) * AUGMENTATION_RATIO)\n",
    "\n",
    "    selected_ids = np.random.choice(patient_ids, size=n_to_augment, replace=False)\n",
    "\n",
    "    for patient_id in selected_ids:\n",
    "        group = class_df[class_df[patient_col] == patient_id].copy()\n",
    "        noise = np.random.normal(loc=0, scale=0.01, size=(len(group), len(eeg_cols)))  # gentle noise\n",
    "        augmented = group.copy()\n",
    "        augmented[eeg_cols] = group[eeg_cols].values + noise\n",
    "        augmented[patient_col] = patient_id + 'a'\n",
    "        augmented_data.append(augmented)"
   ]
  },
  {
   "cell_type": "code",
   "execution_count": 13,
   "id": "a0e6fe30",
   "metadata": {},
   "outputs": [
    {
     "name": "stdout",
     "output_type": "stream",
     "text": [
      "(2166383, 21)\n",
      "Index(['Fp1', 'Fp2', 'F3', 'F4', 'C3', 'C4', 'P3', 'P4', 'O1', 'O2', 'F7',\n",
      "       'F8', 'T7', 'T8', 'P7', 'P8', 'Fz', 'Cz', 'Pz', 'Class', 'ID'],\n",
      "      dtype='object')\n"
     ]
    }
   ],
   "source": [
    "# Combine augmented samples into a single DataFrame\n",
    "aug_df = pd.concat(augmented_data, ignore_index=True)\n",
    "\n",
    "filtered_eeg = bandpass_filter(df[channel_names].values, fs=128)\n",
    "\n",
    "\n",
    "filtered_df = df.copy()\n",
    "filtered_df[channel_names] = filtered_eeg\n",
    "\n",
    "# Display the filtered dataset\n",
    "# tools.display_dataframe_to_user(name=\"Filtered EEG Dataset\", dataframe=filtered_df)\n",
    "print(filtered_df.shape)\n",
    "print(filtered_df.columns)"
   ]
  },
  {
   "cell_type": "code",
   "execution_count": 14,
   "id": "f5b8005a",
   "metadata": {},
   "outputs": [
    {
     "name": "stdout",
     "output_type": "stream",
     "text": [
      "Combined dataset shape: (2581114, 21)\n",
      "Combined dataset columns: Index(['Fp1', 'Fp2', 'F3', 'F4', 'C3', 'C4', 'P3', 'P4', 'O1', 'O2', 'F7',\n",
      "       'F8', 'T7', 'T8', 'P7', 'P8', 'Fz', 'Cz', 'Pz', 'Class', 'ID'],\n",
      "      dtype='object')\n"
     ]
    }
   ],
   "source": [
    "combined_df = pd.concat([df, aug_df], ignore_index=True)\n",
    "\n",
    "# Optional: print shape and columns to verify\n",
    "print(\"Combined dataset shape:\", combined_df.shape)\n",
    "print(\"Combined dataset columns:\", combined_df.columns)"
   ]
  },
  {
   "cell_type": "code",
   "execution_count": 16,
   "id": "ad6e334f",
   "metadata": {},
   "outputs": [
    {
     "name": "stdout",
     "output_type": "stream",
     "text": [
      "(2581114, 21)\n",
      "Index(['Fp1', 'Fp2', 'F3', 'F4', 'C3', 'C4', 'P3', 'P4', 'O1', 'O2', 'F7',\n",
      "       'F8', 'T7', 'T8', 'P7', 'P8', 'Fz', 'Cz', 'Pz', 'Class', 'ID'],\n",
      "      dtype='object')\n",
      "(19954, 41)\n",
      "Index(['Subject_ID', 'Class', 'TBR_Fp1', 'Feature1_Fp1', 'TBR_Fp2',\n",
      "       'Feature1_Fp2', 'TBR_F3', 'Feature1_F3', 'TBR_F4', 'Feature1_F4',\n",
      "       'TBR_C3', 'Feature1_C3', 'TBR_C4', 'Feature1_C4', 'TBR_P3',\n",
      "       'Feature1_P3', 'TBR_P4', 'Feature1_P4', 'TBR_O1', 'Feature1_O1',\n",
      "       'TBR_O2', 'Feature1_O2', 'TBR_F7', 'Feature1_F7', 'TBR_F8',\n",
      "       'Feature1_F8', 'TBR_T7', 'Feature1_T7', 'TBR_T8', 'Feature1_T8',\n",
      "       'TBR_P7', 'Feature1_P7', 'TBR_P8', 'Feature1_P8', 'TBR_Fz',\n",
      "       'Feature1_Fz', 'TBR_Cz', 'Feature1_Cz', 'TBR_Pz', 'Feature1_Pz',\n",
      "       'Label'],\n",
      "      dtype='object')\n"
     ]
    }
   ],
   "source": [
    "features = []\n",
    "df = combined_df.copy()\n",
    "print(df.shape)\n",
    "print(df.columns)\n",
    "\n",
    "fs = 128  # Sampling rate in Hz\n",
    "epoch_length = 2 * fs  # 2 seconds = 256 samples\n",
    "step_size = fs  # 50% overlap = 128 samples\n",
    "\n",
    "# Process each subject individually\n",
    "for subject_id in df['ID'].unique():\n",
    "    subject_data = df[df['ID'] == subject_id].reset_index(drop=True)\n",
    "    eeg_data = subject_data[channel_names].values\n",
    "    label = subject_data['Class'].iloc[0]\n",
    "\n",
    "    for start in range(0, len(eeg_data) - epoch_length + 1, step_size):\n",
    "        epoch = eeg_data[start:start + epoch_length, :]\n",
    "        feature_row = {'Subject_ID': subject_id, 'Class': label}\n",
    "\n",
    "        for i, ch in enumerate(channel_names):\n",
    "            f, Pxx = welch(epoch[:, i], fs=fs, nperseg=epoch_length)\n",
    "            delta_power = np.trapezoid(Pxx[(f >= 0.5) & (f < 4)], f[(f >= 0.5) & (f < 4)])\n",
    "            theta_power = np.trapezoid(Pxx[(f >= 4) & (f <= 8)], f[(f >= 4) & (f <= 8)])\n",
    "            alpha_power = np.trapezoid(Pxx[(f >= 8) & (f <= 13)], f[(f >= 8) & (f <= 13)])\n",
    "            beta_power = np.trapezoid(Pxx[(f >= 13) & (f <= 30)], f[(f >= 13) & (f <= 30)])\n",
    "            tbr = theta_power / beta_power if beta_power != 0 else 0\n",
    "            feature_row[f'TBR_{ch}'] = tbr\n",
    "            feature_row[f'Feature1_{ch}'] = delta_power + theta_power + alpha_power + beta_power\n",
    "\n",
    "        features.append(feature_row)\n",
    "\n",
    "\n",
    "tbr_df_multi = pd.DataFrame(features)\n",
    "\n",
    "# Binary label\n",
    "tbr_df_multi['Label'] = (tbr_df_multi['Class'] == 'ADHD').astype(int)\n",
    "print(tbr_df_multi.shape)\n",
    "print(tbr_df_multi.columns)\n",
    "tbr_df_multi.head()\n",
    "\n",
    "# Define TBR and Feature1 feature names\n",
    "tbr_features = [f'TBR_{ch}' for ch in channel_names]\n",
    "feature1_features = [f'Feature1_{ch}' for ch in channel_names]\n",
    "\n",
    "# Combine both feature types\n",
    "X = tbr_df_multi[tbr_features + feature1_features]\n",
    "y = tbr_df_multi['Label']"
   ]
  },
  {
   "cell_type": "code",
   "execution_count": 17,
   "id": "42737521",
   "metadata": {},
   "outputs": [
    {
     "name": "stdout",
     "output_type": "stream",
     "text": [
      "(13778, 38)\n",
      "(6176, 38)\n"
     ]
    }
   ],
   "source": [
    "from sklearn.model_selection import GroupShuffleSplit\n",
    "\n",
    "groups = tbr_df_multi['Subject_ID']\n",
    "gss = GroupShuffleSplit(n_splits=1, test_size=0.3, random_state=42)\n",
    "train_idx, test_idx = next(gss.split(X, y, groups=groups))\n",
    "\n",
    "X_train, X_test = X.iloc[train_idx], X.iloc[test_idx]\n",
    "y_train, y_test = y.iloc[train_idx], y.iloc[test_idx]\n",
    "\n",
    "print(X_train.shape)\n",
    "\n",
    "print(X_test.shape)\n"
   ]
  },
  {
   "cell_type": "code",
   "execution_count": 18,
   "id": "ca2980a5",
   "metadata": {},
   "outputs": [
    {
     "name": "stdout",
     "output_type": "stream",
     "text": [
      "✅ Success: No subject appears in both training and test sets.\n"
     ]
    }
   ],
   "source": [
    "\n",
    "train_subjects = set(tbr_df_multi.iloc[train_idx]['Subject_ID'])\n",
    "test_subjects = set(tbr_df_multi.iloc[test_idx]['Subject_ID'])\n",
    "\n",
    "# Check for overlap\n",
    "overlap = train_subjects.intersection(test_subjects)\n",
    "\n",
    "# Print result\n",
    "if len(overlap) == 0:\n",
    "    print(\"✅ Success: No subject appears in both training and test sets.\")\n",
    "else:\n",
    "    print(f\"❌ Warning: Overlap found in Subject_IDs: {overlap}\")\n"
   ]
  },
  {
   "cell_type": "code",
   "execution_count": 19,
   "id": "075c3442",
   "metadata": {},
   "outputs": [
    {
     "name": "stderr",
     "output_type": "stream",
     "text": [
      "c:\\Users\\43699\\OneDrive\\Desktop\\Documents\\MCI\\8SE\\AI_project\\adhd-eeg-project\\venv\\lib\\site-packages\\sklearn\\linear_model\\_logistic.py:470: ConvergenceWarning: lbfgs failed to converge after 1000 iteration(s) (status=1):\n",
      "STOP: TOTAL NO. OF ITERATIONS REACHED LIMIT\n",
      "\n",
      "Increase the number of iterations to improve the convergence (max_iter=1000).\n",
      "You might also want to scale the data as shown in:\n",
      "    https://scikit-learn.org/stable/modules/preprocessing.html\n",
      "Please also refer to the documentation for alternative solver options:\n",
      "    https://scikit-learn.org/stable/modules/linear_model.html#logistic-regression\n",
      "  n_iter_i = _check_optimize_result(\n"
     ]
    },
    {
     "name": "stdout",
     "output_type": "stream",
     "text": [
      "=== Logistic Regression ===\n",
      "              precision    recall  f1-score   support\n",
      "\n",
      "           0       0.59      0.48      0.53      2965\n",
      "           1       0.59      0.69      0.64      3211\n",
      "\n",
      "    accuracy                           0.59      6176\n",
      "   macro avg       0.59      0.59      0.59      6176\n",
      "weighted avg       0.59      0.59      0.59      6176\n",
      "\n",
      "\n",
      "=== Random Forest ===\n",
      "              precision    recall  f1-score   support\n",
      "\n",
      "           0       0.80      0.64      0.71      2965\n",
      "           1       0.72      0.85      0.78      3211\n",
      "\n",
      "    accuracy                           0.75      6176\n",
      "   macro avg       0.76      0.74      0.74      6176\n",
      "weighted avg       0.76      0.75      0.74      6176\n",
      "\n",
      "\n",
      "=== SVM (RBF kernel) ===\n",
      "              precision    recall  f1-score   support\n",
      "\n",
      "           0       0.73      0.26      0.38      2965\n",
      "           1       0.57      0.91      0.70      3211\n",
      "\n",
      "    accuracy                           0.60      6176\n",
      "   macro avg       0.65      0.59      0.54      6176\n",
      "weighted avg       0.65      0.60      0.55      6176\n",
      "\n",
      "\n",
      "=== KNN (k=3) ===\n",
      "              precision    recall  f1-score   support\n",
      "\n",
      "           0       0.70      0.63      0.66      2965\n",
      "           1       0.69      0.75      0.72      3211\n",
      "\n",
      "    accuracy                           0.69      6176\n",
      "   macro avg       0.69      0.69      0.69      6176\n",
      "weighted avg       0.69      0.69      0.69      6176\n",
      "\n",
      "\n"
     ]
    }
   ],
   "source": [
    "# Classifiers\n",
    "models = {\n",
    "    \"Logistic Regression\": LogisticRegression(max_iter=1000),\n",
    "    \"Random Forest\": RandomForestClassifier(random_state=42),\n",
    "    \"SVM (RBF kernel)\": SVC(kernel='rbf', probability=True, random_state=42),\n",
    "    \"KNN (k=3)\": KNeighborsClassifier(n_neighbors=3)\n",
    "}\n",
    "\n",
    "# Train and report\n",
    "for name, model in models.items():\n",
    "    model.fit(X_train, y_train)\n",
    "    y_pred = model.predict(X_test)\n",
    "    print(f\"=== {name} ===\")\n",
    "    print(classification_report(y_test, y_pred))\n",
    "    print()"
   ]
  },
  {
   "cell_type": "code",
   "execution_count": 21,
   "id": "b326fc92",
   "metadata": {},
   "outputs": [
    {
     "data": {
      "image/png": "[encoded data removed]",
      "text/plain": [
       "<Figure size 600x400 with 2 Axes>"
      ]
     },
     "metadata": {},
     "output_type": "display_data"
    }
   ],
   "source": [
    "rf_model = models[\"Random Forest\"]\n",
    "y_pred_rf = rf_model.predict(X_test)\n",
    "\n",
    "# Create confusion matrix\n",
    "from sklearn.metrics import confusion_matrix\n",
    "import seaborn as sns\n",
    "import matplotlib.pyplot as plt\n",
    "\n",
    "cm = confusion_matrix(y_test, y_pred_rf)\n",
    "\n",
    "plt.figure(figsize=(6, 4))\n",
    "sns.heatmap(cm, annot=True, fmt='d', cmap='Blues',\n",
    "            xticklabels=['Control (0)', 'ADHD (1)'],\n",
    "            yticklabels=['Control (0)', 'ADHD (1)'])\n",
    "plt.xlabel('Predicted Label')\n",
    "plt.ylabel('True Label')\n",
    "plt.title('Confusion Matrix - Random Forest')\n",
    "plt.tight_layout()\n",
    "plt.show()\n"
   ]
  }
 ],
 "metadata": {
  "kernelspec": {
   "display_name": "venv",
   "language": "python",
   "name": "python3"
  },
  "language_info": {
   "codemirror_mode": {
    "name": "ipython",
    "version": 3
   },
   "file_extension": ".py",
   "mimetype": "text/x-python",
   "name": "python",
   "nbconvert_exporter": "python",
   "pygments_lexer": "ipython3",
   "version": "3.10.10"
  }
 },
 "nbformat": 4,
 "nbformat_minor": 5
}
