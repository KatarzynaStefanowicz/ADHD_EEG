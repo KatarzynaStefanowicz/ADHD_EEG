{
 "cells": [
  {
   "cell_type": "code",
   "execution_count": 10,
   "id": "d3248805",
   "metadata": {},
   "outputs": [
    {
     "data": {
      "application/vnd.jupyter.widget-view+json": {
       "model_id": "c7c087ff976b4ceda69193c13217f47e",
       "version_major": 2,
       "version_minor": 0
      },
      "text/plain": [
       "Processing patients:   0%|          | 0/121 [00:00<?, ?it/s]"
      ]
     },
     "metadata": {},
     "output_type": "display_data"
    },
    {
     "name": "stdout",
     "output_type": "stream",
     "text": [
      "Total segments created: 16749\n",
      "Total labels collected: 16749\n"
     ]
    }
   ],
   "source": [
    "import numpy as np\n",
    "import pandas as pd\n",
    "import mne\n",
    "import matplotlib.pyplot as plt\n",
    "import seaborn as sns\n",
    "from tqdm.notebook import tqdm\n",
    "import time\n",
    "\n",
    "data = pd.read_csv(\"../data/adhdata.csv\")\n",
    "\n",
    "channel_names = data.columns.tolist()\n",
    "channel_names.remove('Class')\n",
    "channel_names.remove('ID')\n",
    "\n",
    "sfreq = 128  # Sampling frequency in Hz\n",
    "\n",
    "info = mne.create_info(ch_names=channel_names, sfreq=sfreq, ch_types='eeg')\n",
    "montage = mne.channels.make_standard_montage('standard_1020')\n",
    "info.set_montage(montage)\n",
    "\n",
    "# Parameters from the paper\n",
    "segment_length = 2  # seconds\n",
    "overlap = 1         # seconds (50% overlap)\n",
    "step = segment_length - overlap  # 1 second step\n",
    "\n",
    "n_samples = int(segment_length * sfreq)\n",
    "step_samples = int(step * sfreq)\n",
    "\n",
    "all_segments = []\n",
    "all_labels = []\n",
    "\n",
    "total_patients = data['ID'].nunique()\n",
    "total_segments = 0\n",
    "\n",
    "with tqdm(total=total_patients, desc=\"Processing patients\") as pbar_patients:\n",
    "    for patient_id in data['ID'].unique():\n",
    "        start_time = time.time()\n",
    "        patient = data[data.ID == patient_id]\n",
    "        eeg_data = patient.drop(['Class', 'ID'], axis=1).values.T\n",
    "        raw = mne.io.RawArray(eeg_data, info, verbose=False)\n",
    "        filtered = raw.copy().filter(l_freq=1., h_freq=45., fir_design='firwin', verbose=False)\n",
    "        label = patient['Class'].iloc[0]\n",
    "        \n",
    "        n_patient_segments = 0\n",
    "        for start in range(0, filtered.n_times - n_samples + 1, step_samples):\n",
    "            stop = start + n_samples\n",
    "            segment = filtered.get_data(start=start, stop=stop)\n",
    "            all_segments.append(segment)\n",
    "            all_labels.append(label)\n",
    "            n_patient_segments += 1\n",
    "            total_segments += 1\n",
    "\n",
    "        elapsed = time.time() - start_time\n",
    "        #print(f\"Patient {patient_id}: {n_patient_segments} segments in {elapsed:.2f} seconds\")\n",
    "        pbar_patients.update(1)\n",
    "\n",
    "print(f\"Total segments created: {len(all_segments)}\")\n",
    "print(f\"Total labels collected: {len(all_labels)}\")"
   ]
  },
  {
   "cell_type": "code",
   "execution_count": 11,
   "id": "ef0022fa",
   "metadata": {},
   "outputs": [
    {
     "data": {
      "application/vnd.jupyter.widget-view+json": {
       "model_id": "a50cad33d6984770bd5cd77b35e9bd2b",
       "version_major": 2,
       "version_minor": 0
      },
      "text/plain": [
       "Augmenting segments:   0%|          | 0/16749 [00:00<?, ?it/s]"
      ]
     },
     "metadata": {},
     "output_type": "display_data"
    },
    {
     "name": "stdout",
     "output_type": "stream",
     "text": [
      "Total segments after augmentation: 33498\n"
     ]
    }
   ],
   "source": [
    "# Augment segments using FFT augmentation\n",
    "def fft_augmentation(eeg_data, noise_level=0.05, random_seed=None):\n",
    "    if random_seed is not None:\n",
    "        np.random.seed(random_seed)\n",
    "    eeg_aug = np.zeros_like(eeg_data)\n",
    "    for ch in range(eeg_data.shape[0]):\n",
    "        fft_vals = np.fft.rfft(eeg_data[ch])\n",
    "        noise = np.random.normal(0, noise_level * np.std(np.abs(fft_vals)), size=fft_vals.shape)\n",
    "        fft_vals_noisy = fft_vals + noise\n",
    "        eeg_aug[ch] = np.fft.irfft(fft_vals_noisy, n=eeg_data.shape[1])\n",
    "    return eeg_aug\n",
    "\n",
    "# Augment all segments with a progress bar\n",
    "augmented_segments = []\n",
    "with tqdm(total=len(all_segments), desc=\"Augmenting segments\") as pbar_aug:\n",
    "    for seg in all_segments:\n",
    "        augmented_segments.append(fft_augmentation(seg, noise_level=0.1))\n",
    "        pbar_aug.update(1)\n",
    "\n",
    "augmented_labels = list(all_labels)  # Use the same labels for augmented data\n",
    "\n",
    "# Combine original and augmented data\n",
    "all_segments_combined = all_segments + augmented_segments\n",
    "all_labels_combined = list(all_labels) + augmented_labels\n",
    "\n",
    "print(f\"Total segments after augmentation: {len(all_segments_combined)}\")"
   ]
  },
  {
   "cell_type": "code",
   "execution_count": 12,
   "id": "e485ac6c",
   "metadata": {},
   "outputs": [
    {
     "data": {
      "application/vnd.jupyter.widget-view+json": {
       "model_id": "e15a2ba205094d8881766de63ee0c4d9",
       "version_major": 2,
       "version_minor": 0
      },
      "text/plain": [
       "Extracting spectrograms:   0%|          | 0/33498 [00:00<?, ?it/s]"
      ]
     },
     "metadata": {},
     "output_type": "display_data"
    },
    {
     "name": "stdout",
     "output_type": "stream",
     "text": [
      "Spectrogram data shape: (33498, 19, 129, 1)\n",
      "Labels shape: (33498,)\n"
     ]
    }
   ],
   "source": [
    "from scipy.signal import spectrogram\n",
    "\n",
    "# Spectrogram extraction\n",
    "spec_segments = []\n",
    "with tqdm(total=len(all_segments_combined), desc=\"Extracting spectrograms\") as pbar_specs:\n",
    "    for segment in all_segments_combined:\n",
    "        specs = []\n",
    "        for ch_data in segment:\n",
    "            f, t, Sxx = spectrogram(\n",
    "                ch_data,\n",
    "                fs=sfreq,\n",
    "                window='hann',\n",
    "                nperseg=256,\n",
    "                noverlap=128,\n",
    "                nfft=256,\n",
    "                scaling='density',\n",
    "                mode='magnitude'\n",
    "            )\n",
    "            specs.append(Sxx)\n",
    "        spec_segments.append(np.stack(specs, axis=0))\n",
    "        pbar_specs.update(1)\n",
    "\n",
    "spec_segments = np.array(spec_segments)\n",
    "all_labels = np.array(all_labels_combined)\n",
    "print(f\"Spectrogram data shape: {spec_segments.shape}\")\n",
    "print(f\"Labels shape: {all_labels.shape}\")"
   ]
  },
  {
   "cell_type": "code",
   "execution_count": 13,
   "id": "01aacc33",
   "metadata": {},
   "outputs": [
    {
     "name": "stdout",
     "output_type": "stream",
     "text": [
      "Unique classes: ['ADHD' 'Control']\n"
     ]
    }
   ],
   "source": [
    "from sklearn.preprocessing import LabelEncoder\n",
    "\n",
    "# Convert string labels to integers (e.g., 'ADHD'->1, 'Control'->0)\n",
    "le = LabelEncoder()\n",
    "all_labels = le.fit_transform(all_labels)\n",
    "print(f\"Unique classes: {le.classes_}\")"
   ]
  },
  {
   "cell_type": "code",
   "execution_count": 14,
   "id": "a15ec878",
   "metadata": {},
   "outputs": [],
   "source": [
    "from sklearn.model_selection import train_test_split\n",
    "\n",
    "X_train, X_test, y_train, y_test = train_test_split(\n",
    "    spec_segments, all_labels, test_size=0.2, random_state=42, stratify=all_labels\n",
    ")"
   ]
  },
  {
   "cell_type": "code",
   "execution_count": 15,
   "id": "8c7a38ee",
   "metadata": {},
   "outputs": [
    {
     "data": {
      "text/html": [
       "<pre style=\"white-space:pre;overflow-x:auto;line-height:normal;font-family:Menlo,'DejaVu Sans Mono',consolas,'Courier New',monospace\"><span style=\"font-weight: bold\">Model: \"sequential_1\"</span>\n",
       "</pre>\n"
      ],
      "text/plain": [
       "\u001b[1mModel: \"sequential_1\"\u001b[0m\n"
      ]
     },
     "metadata": {},
     "output_type": "display_data"
    },
    {
     "data": {
      "text/html": [
       "<pre style=\"white-space:pre;overflow-x:auto;line-height:normal;font-family:Menlo,'DejaVu Sans Mono',consolas,'Courier New',monospace\">┏━━━━━━━━━━━━━━━━━━━━━━━━━━━━━━━━━┳━━━━━━━━━━━━━━━━━━━━━━━━┳━━━━━━━━━━━━━━━┓\n",
       "┃<span style=\"font-weight: bold\"> Layer (type)                    </span>┃<span style=\"font-weight: bold\"> Output Shape           </span>┃<span style=\"font-weight: bold\">       Param # </span>┃\n",
       "┡━━━━━━━━━━━━━━━━━━━━━━━━━━━━━━━━━╇━━━━━━━━━━━━━━━━━━━━━━━━╇━━━━━━━━━━━━━━━┩\n",
       "│ conv2d_2 (<span style=\"color: #0087ff; text-decoration-color: #0087ff\">Conv2D</span>)               │ (<span style=\"color: #00d7ff; text-decoration-color: #00d7ff\">None</span>, <span style=\"color: #00af00; text-decoration-color: #00af00\">32</span>, <span style=\"color: #00af00; text-decoration-color: #00af00\">129</span>, <span style=\"color: #00af00; text-decoration-color: #00af00\">1</span>)     │         <span style=\"color: #00af00; text-decoration-color: #00af00\">5,504</span> │\n",
       "├─────────────────────────────────┼────────────────────────┼───────────────┤\n",
       "│ max_pooling2d_2 (<span style=\"color: #0087ff; text-decoration-color: #0087ff\">MaxPooling2D</span>)  │ (<span style=\"color: #00d7ff; text-decoration-color: #00d7ff\">None</span>, <span style=\"color: #00af00; text-decoration-color: #00af00\">32</span>, <span style=\"color: #00af00; text-decoration-color: #00af00\">64</span>, <span style=\"color: #00af00; text-decoration-color: #00af00\">1</span>)      │             <span style=\"color: #00af00; text-decoration-color: #00af00\">0</span> │\n",
       "├─────────────────────────────────┼────────────────────────┼───────────────┤\n",
       "│ conv2d_3 (<span style=\"color: #0087ff; text-decoration-color: #0087ff\">Conv2D</span>)               │ (<span style=\"color: #00d7ff; text-decoration-color: #00d7ff\">None</span>, <span style=\"color: #00af00; text-decoration-color: #00af00\">64</span>, <span style=\"color: #00af00; text-decoration-color: #00af00\">64</span>, <span style=\"color: #00af00; text-decoration-color: #00af00\">1</span>)      │        <span style=\"color: #00af00; text-decoration-color: #00af00\">18,496</span> │\n",
       "├─────────────────────────────────┼────────────────────────┼───────────────┤\n",
       "│ max_pooling2d_3 (<span style=\"color: #0087ff; text-decoration-color: #0087ff\">MaxPooling2D</span>)  │ (<span style=\"color: #00d7ff; text-decoration-color: #00d7ff\">None</span>, <span style=\"color: #00af00; text-decoration-color: #00af00\">64</span>, <span style=\"color: #00af00; text-decoration-color: #00af00\">32</span>, <span style=\"color: #00af00; text-decoration-color: #00af00\">1</span>)      │             <span style=\"color: #00af00; text-decoration-color: #00af00\">0</span> │\n",
       "├─────────────────────────────────┼────────────────────────┼───────────────┤\n",
       "│ flatten_1 (<span style=\"color: #0087ff; text-decoration-color: #0087ff\">Flatten</span>)             │ (<span style=\"color: #00d7ff; text-decoration-color: #00d7ff\">None</span>, <span style=\"color: #00af00; text-decoration-color: #00af00\">2048</span>)           │             <span style=\"color: #00af00; text-decoration-color: #00af00\">0</span> │\n",
       "├─────────────────────────────────┼────────────────────────┼───────────────┤\n",
       "│ dense_2 (<span style=\"color: #0087ff; text-decoration-color: #0087ff\">Dense</span>)                 │ (<span style=\"color: #00d7ff; text-decoration-color: #00d7ff\">None</span>, <span style=\"color: #00af00; text-decoration-color: #00af00\">64</span>)             │       <span style=\"color: #00af00; text-decoration-color: #00af00\">131,136</span> │\n",
       "├─────────────────────────────────┼────────────────────────┼───────────────┤\n",
       "│ dense_3 (<span style=\"color: #0087ff; text-decoration-color: #0087ff\">Dense</span>)                 │ (<span style=\"color: #00d7ff; text-decoration-color: #00d7ff\">None</span>, <span style=\"color: #00af00; text-decoration-color: #00af00\">1</span>)              │            <span style=\"color: #00af00; text-decoration-color: #00af00\">65</span> │\n",
       "└─────────────────────────────────┴────────────────────────┴───────────────┘\n",
       "</pre>\n"
      ],
      "text/plain": [
       "┏━━━━━━━━━━━━━━━━━━━━━━━━━━━━━━━━━┳━━━━━━━━━━━━━━━━━━━━━━━━┳━━━━━━━━━━━━━━━┓\n",
       "┃\u001b[1m \u001b[0m\u001b[1mLayer (type)                   \u001b[0m\u001b[1m \u001b[0m┃\u001b[1m \u001b[0m\u001b[1mOutput Shape          \u001b[0m\u001b[1m \u001b[0m┃\u001b[1m \u001b[0m\u001b[1m      Param #\u001b[0m\u001b[1m \u001b[0m┃\n",
       "┡━━━━━━━━━━━━━━━━━━━━━━━━━━━━━━━━━╇━━━━━━━━━━━━━━━━━━━━━━━━╇━━━━━━━━━━━━━━━┩\n",
       "│ conv2d_2 (\u001b[38;5;33mConv2D\u001b[0m)               │ (\u001b[38;5;45mNone\u001b[0m, \u001b[38;5;34m32\u001b[0m, \u001b[38;5;34m129\u001b[0m, \u001b[38;5;34m1\u001b[0m)     │         \u001b[38;5;34m5,504\u001b[0m │\n",
       "├─────────────────────────────────┼────────────────────────┼───────────────┤\n",
       "│ max_pooling2d_2 (\u001b[38;5;33mMaxPooling2D\u001b[0m)  │ (\u001b[38;5;45mNone\u001b[0m, \u001b[38;5;34m32\u001b[0m, \u001b[38;5;34m64\u001b[0m, \u001b[38;5;34m1\u001b[0m)      │             \u001b[38;5;34m0\u001b[0m │\n",
       "├─────────────────────────────────┼────────────────────────┼───────────────┤\n",
       "│ conv2d_3 (\u001b[38;5;33mConv2D\u001b[0m)               │ (\u001b[38;5;45mNone\u001b[0m, \u001b[38;5;34m64\u001b[0m, \u001b[38;5;34m64\u001b[0m, \u001b[38;5;34m1\u001b[0m)      │        \u001b[38;5;34m18,496\u001b[0m │\n",
       "├─────────────────────────────────┼────────────────────────┼───────────────┤\n",
       "│ max_pooling2d_3 (\u001b[38;5;33mMaxPooling2D\u001b[0m)  │ (\u001b[38;5;45mNone\u001b[0m, \u001b[38;5;34m64\u001b[0m, \u001b[38;5;34m32\u001b[0m, \u001b[38;5;34m1\u001b[0m)      │             \u001b[38;5;34m0\u001b[0m │\n",
       "├─────────────────────────────────┼────────────────────────┼───────────────┤\n",
       "│ flatten_1 (\u001b[38;5;33mFlatten\u001b[0m)             │ (\u001b[38;5;45mNone\u001b[0m, \u001b[38;5;34m2048\u001b[0m)           │             \u001b[38;5;34m0\u001b[0m │\n",
       "├─────────────────────────────────┼────────────────────────┼───────────────┤\n",
       "│ dense_2 (\u001b[38;5;33mDense\u001b[0m)                 │ (\u001b[38;5;45mNone\u001b[0m, \u001b[38;5;34m64\u001b[0m)             │       \u001b[38;5;34m131,136\u001b[0m │\n",
       "├─────────────────────────────────┼────────────────────────┼───────────────┤\n",
       "│ dense_3 (\u001b[38;5;33mDense\u001b[0m)                 │ (\u001b[38;5;45mNone\u001b[0m, \u001b[38;5;34m1\u001b[0m)              │            \u001b[38;5;34m65\u001b[0m │\n",
       "└─────────────────────────────────┴────────────────────────┴───────────────┘\n"
      ]
     },
     "metadata": {},
     "output_type": "display_data"
    },
    {
     "data": {
      "text/html": [
       "<pre style=\"white-space:pre;overflow-x:auto;line-height:normal;font-family:Menlo,'DejaVu Sans Mono',consolas,'Courier New',monospace\"><span style=\"font-weight: bold\"> Total params: </span><span style=\"color: #00af00; text-decoration-color: #00af00\">155,201</span> (606.25 KB)\n",
       "</pre>\n"
      ],
      "text/plain": [
       "\u001b[1m Total params: \u001b[0m\u001b[38;5;34m155,201\u001b[0m (606.25 KB)\n"
      ]
     },
     "metadata": {},
     "output_type": "display_data"
    },
    {
     "data": {
      "text/html": [
       "<pre style=\"white-space:pre;overflow-x:auto;line-height:normal;font-family:Menlo,'DejaVu Sans Mono',consolas,'Courier New',monospace\"><span style=\"font-weight: bold\"> Trainable params: </span><span style=\"color: #00af00; text-decoration-color: #00af00\">155,201</span> (606.25 KB)\n",
       "</pre>\n"
      ],
      "text/plain": [
       "\u001b[1m Trainable params: \u001b[0m\u001b[38;5;34m155,201\u001b[0m (606.25 KB)\n"
      ]
     },
     "metadata": {},
     "output_type": "display_data"
    },
    {
     "data": {
      "text/html": [
       "<pre style=\"white-space:pre;overflow-x:auto;line-height:normal;font-family:Menlo,'DejaVu Sans Mono',consolas,'Courier New',monospace\"><span style=\"font-weight: bold\"> Non-trainable params: </span><span style=\"color: #00af00; text-decoration-color: #00af00\">0</span> (0.00 B)\n",
       "</pre>\n"
      ],
      "text/plain": [
       "\u001b[1m Non-trainable params: \u001b[0m\u001b[38;5;34m0\u001b[0m (0.00 B)\n"
      ]
     },
     "metadata": {},
     "output_type": "display_data"
    }
   ],
   "source": [
    "import tensorflow as tf\n",
    "from tensorflow.keras import layers, models\n",
    "\n",
    "input_shape = X_train.shape[1:]  # (channels, freq_bins, time_bins)\n",
    "\n",
    "model = models.Sequential([\n",
    "    layers.Input(shape=input_shape),\n",
    "    layers.Conv2D(32, (3, 3), activation='relu', padding='same', data_format='channels_first'),\n",
    "    layers.MaxPooling2D((2, 1), data_format='channels_first'),  # Only pool freq axis\n",
    "    layers.Conv2D(64, (3, 3), activation='relu', padding='same', data_format='channels_first'),\n",
    "    layers.MaxPooling2D((2, 1), data_format='channels_first'),  # Only pool freq axis\n",
    "    layers.Flatten(),\n",
    "    layers.Dense(64, activation='relu'),\n",
    "    layers.Dense(1, activation='sigmoid')  # For binary classification\n",
    "])\n",
    "\n",
    "model.compile(optimizer='adam', loss='binary_crossentropy', metrics=['accuracy'])\n",
    "model.summary()"
   ]
  },
  {
   "cell_type": "code",
   "execution_count": 16,
   "id": "f797f2d2",
   "metadata": {},
   "outputs": [
    {
     "name": "stdout",
     "output_type": "stream",
     "text": [
      "Epoch 1/20\n",
      "\u001b[1m670/670\u001b[0m \u001b[32m━━━━━━━━━━━━━━━━━━━━\u001b[0m\u001b[37m\u001b[0m \u001b[1m7s\u001b[0m 8ms/step - accuracy: 0.8438 - loss: 0.4230 - val_accuracy: 0.9756 - val_loss: 0.0902\n",
      "Epoch 2/20\n",
      "\u001b[1m670/670\u001b[0m \u001b[32m━━━━━━━━━━━━━━━━━━━━\u001b[0m\u001b[37m\u001b[0m \u001b[1m5s\u001b[0m 8ms/step - accuracy: 0.9816 - loss: 0.0591 - val_accuracy: 0.9722 - val_loss: 0.0851\n",
      "Epoch 3/20\n",
      "\u001b[1m670/670\u001b[0m \u001b[32m━━━━━━━━━━━━━━━━━━━━\u001b[0m\u001b[37m\u001b[0m \u001b[1m5s\u001b[0m 8ms/step - accuracy: 0.9890 - loss: 0.0346 - val_accuracy: 0.9948 - val_loss: 0.0249\n",
      "Epoch 4/20\n",
      "\u001b[1m670/670\u001b[0m \u001b[32m━━━━━━━━━━━━━━━━━━━━\u001b[0m\u001b[37m\u001b[0m \u001b[1m5s\u001b[0m 8ms/step - accuracy: 0.9915 - loss: 0.0270 - val_accuracy: 0.9927 - val_loss: 0.0361\n",
      "Epoch 5/20\n",
      "\u001b[1m670/670\u001b[0m \u001b[32m━━━━━━━━━━━━━━━━━━━━\u001b[0m\u001b[37m\u001b[0m \u001b[1m7s\u001b[0m 11ms/step - accuracy: 0.9946 - loss: 0.0214 - val_accuracy: 0.9944 - val_loss: 0.0387\n",
      "Epoch 6/20\n",
      "\u001b[1m670/670\u001b[0m \u001b[32m━━━━━━━━━━━━━━━━━━━━\u001b[0m\u001b[37m\u001b[0m \u001b[1m6s\u001b[0m 8ms/step - accuracy: 0.9947 - loss: 0.0159 - val_accuracy: 0.9821 - val_loss: 0.0639\n",
      "Epoch 7/20\n",
      "\u001b[1m670/670\u001b[0m \u001b[32m━━━━━━━━━━━━━━━━━━━━\u001b[0m\u001b[37m\u001b[0m \u001b[1m6s\u001b[0m 9ms/step - accuracy: 0.9970 - loss: 0.0111 - val_accuracy: 0.9933 - val_loss: 0.0161\n",
      "Epoch 8/20\n",
      "\u001b[1m670/670\u001b[0m \u001b[32m━━━━━━━━━━━━━━━━━━━━\u001b[0m\u001b[37m\u001b[0m \u001b[1m5s\u001b[0m 8ms/step - accuracy: 0.9977 - loss: 0.0094 - val_accuracy: 0.9912 - val_loss: 0.0373\n",
      "Epoch 9/20\n",
      "\u001b[1m670/670\u001b[0m \u001b[32m━━━━━━━━━━━━━━━━━━━━\u001b[0m\u001b[37m\u001b[0m \u001b[1m6s\u001b[0m 9ms/step - accuracy: 0.9971 - loss: 0.0095 - val_accuracy: 0.9976 - val_loss: 0.0105\n",
      "Epoch 10/20\n",
      "\u001b[1m670/670\u001b[0m \u001b[32m━━━━━━━━━━━━━━━━━━━━\u001b[0m\u001b[37m\u001b[0m \u001b[1m6s\u001b[0m 9ms/step - accuracy: 0.9995 - loss: 0.0019 - val_accuracy: 0.9963 - val_loss: 0.0187\n",
      "Epoch 11/20\n",
      "\u001b[1m670/670\u001b[0m \u001b[32m━━━━━━━━━━━━━━━━━━━━\u001b[0m\u001b[37m\u001b[0m \u001b[1m5s\u001b[0m 8ms/step - accuracy: 0.9966 - loss: 0.0116 - val_accuracy: 0.9886 - val_loss: 0.0429\n",
      "Epoch 12/20\n",
      "\u001b[1m670/670\u001b[0m \u001b[32m━━━━━━━━━━━━━━━━━━━━\u001b[0m\u001b[37m\u001b[0m \u001b[1m5s\u001b[0m 8ms/step - accuracy: 0.9952 - loss: 0.0132 - val_accuracy: 0.9832 - val_loss: 0.0769\n",
      "Epoch 13/20\n",
      "\u001b[1m670/670\u001b[0m \u001b[32m━━━━━━━━━━━━━━━━━━━━\u001b[0m\u001b[37m\u001b[0m \u001b[1m6s\u001b[0m 9ms/step - accuracy: 0.9983 - loss: 0.0060 - val_accuracy: 0.9948 - val_loss: 0.0214\n",
      "Epoch 14/20\n",
      "\u001b[1m670/670\u001b[0m \u001b[32m━━━━━━━━━━━━━━━━━━━━\u001b[0m\u001b[37m\u001b[0m \u001b[1m6s\u001b[0m 8ms/step - accuracy: 0.9959 - loss: 0.0161 - val_accuracy: 0.9951 - val_loss: 0.0235\n",
      "Epoch 15/20\n",
      "\u001b[1m670/670\u001b[0m \u001b[32m━━━━━━━━━━━━━━━━━━━━\u001b[0m\u001b[37m\u001b[0m \u001b[1m6s\u001b[0m 9ms/step - accuracy: 0.9987 - loss: 0.0052 - val_accuracy: 0.9985 - val_loss: 0.0119\n",
      "Epoch 16/20\n",
      "\u001b[1m670/670\u001b[0m \u001b[32m━━━━━━━━━━━━━━━━━━━━\u001b[0m\u001b[37m\u001b[0m \u001b[1m6s\u001b[0m 8ms/step - accuracy: 1.0000 - loss: 1.0674e-04 - val_accuracy: 0.9981 - val_loss: 0.0081\n",
      "Epoch 17/20\n",
      "\u001b[1m670/670\u001b[0m \u001b[32m━━━━━━━━━━━━━━━━━━━━\u001b[0m\u001b[37m\u001b[0m \u001b[1m6s\u001b[0m 9ms/step - accuracy: 1.0000 - loss: 3.0629e-05 - val_accuracy: 0.9987 - val_loss: 0.0075\n",
      "Epoch 18/20\n",
      "\u001b[1m670/670\u001b[0m \u001b[32m━━━━━━━━━━━━━━━━━━━━\u001b[0m\u001b[37m\u001b[0m \u001b[1m6s\u001b[0m 9ms/step - accuracy: 1.0000 - loss: 1.7528e-05 - val_accuracy: 0.9987 - val_loss: 0.0060\n",
      "Epoch 19/20\n",
      "\u001b[1m670/670\u001b[0m \u001b[32m━━━━━━━━━━━━━━━━━━━━\u001b[0m\u001b[37m\u001b[0m \u001b[1m6s\u001b[0m 9ms/step - accuracy: 1.0000 - loss: 1.2624e-05 - val_accuracy: 0.9985 - val_loss: 0.0068\n",
      "Epoch 20/20\n",
      "\u001b[1m670/670\u001b[0m \u001b[32m━━━━━━━━━━━━━━━━━━━━\u001b[0m\u001b[37m\u001b[0m \u001b[1m6s\u001b[0m 9ms/step - accuracy: 1.0000 - loss: 7.3747e-06 - val_accuracy: 0.9987 - val_loss: 0.0068\n"
     ]
    }
   ],
   "source": [
    "history = model.fit(X_train, y_train, epochs=20, batch_size=32, validation_split=0.2)"
   ]
  },
  {
   "cell_type": "code",
   "execution_count": 17,
   "id": "f7f5cb05",
   "metadata": {},
   "outputs": [
    {
     "name": "stdout",
     "output_type": "stream",
     "text": [
      "\u001b[1m210/210\u001b[0m \u001b[32m━━━━━━━━━━━━━━━━━━━━\u001b[0m\u001b[37m\u001b[0m \u001b[1m1s\u001b[0m 3ms/step - accuracy: 0.9998 - loss: 0.0010  \n",
      "Test accuracy: 1.00\n",
      "\u001b[1m210/210\u001b[0m \u001b[32m━━━━━━━━━━━━━━━━━━━━\u001b[0m\u001b[37m\u001b[0m \u001b[1m1s\u001b[0m 3ms/step\n",
      "              precision    recall  f1-score   support\n",
      "\n",
      "           0       1.00      1.00      1.00      3737\n",
      "           1       1.00      1.00      1.00      2963\n",
      "\n",
      "    accuracy                           1.00      6700\n",
      "   macro avg       1.00      1.00      1.00      6700\n",
      "weighted avg       1.00      1.00      1.00      6700\n",
      "\n"
     ]
    },
    {
     "data": {
      "image/png": "[encoded data removed]",
      "text/plain": [
       "<Figure size 640x480 with 2 Axes>"
      ]
     },
     "metadata": {},
     "output_type": "display_data"
    }
   ],
   "source": [
    "from sklearn.metrics import classification_report, confusion_matrix\n",
    "\n",
    "test_loss, test_acc = model.evaluate(X_test, y_test)\n",
    "print(f\"Test accuracy: {test_acc:.2f}\")\n",
    "\n",
    "# Confusion matrix\n",
    "y_pred = model.predict(X_test)\n",
    "y_pred_classes = (y_pred > 0.5).astype(int).flatten()\n",
    "y_true = y_test\n",
    "\n",
    "print(classification_report(y_true, y_pred_classes))\n",
    "sns.heatmap(confusion_matrix(y_true, y_pred_classes), annot=True, fmt=\"d\", cmap=\"Blues\")\n",
    "plt.xlabel(\"Predicted\")\n",
    "plt.ylabel(\"True\")\n",
    "plt.title(\"Confusion Matrix\")\n",
    "plt.show()"
   ]
  }
 ],
 "metadata": {
  "kernelspec": {
   "display_name": "my_venv",
   "language": "python",
   "name": "python3"
  },
  "language_info": {
   "codemirror_mode": {
    "name": "ipython",
    "version": 3
   },
   "file_extension": ".py",
   "mimetype": "text/x-python",
   "name": "python",
   "nbconvert_exporter": "python",
   "pygments_lexer": "ipython3",
   "version": "3.11.9"
  }
 },
 "nbformat": 4,
 "nbformat_minor": 5
}
